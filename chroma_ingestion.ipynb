{
 "cells": [
  {
   "cell_type": "code",
   "execution_count": 1,
   "metadata": {},
   "outputs": [],
   "source": [
    "import langchain\n",
    "from langchain.document_loaders import TextLoader\n",
    "from langchain.embeddings.sentence_transformer import SentenceTransformerEmbeddings\n",
    "from langchain.text_splitter import CharacterTextSplitter\n",
    "from langchain.vectorstores import Chroma\n",
    "import openai"
   ]
  },
  {
   "cell_type": "code",
   "execution_count": 2,
   "metadata": {},
   "outputs": [
    {
     "name": "stdout",
     "output_type": "stream",
     "text": [
      "this is page 7\n",
      "this is page 8\n",
      "this is page 9\n",
      "this is page 10\n",
      "this is page 11\n",
      "this is page 12\n",
      "this is page 13\n",
      "this is page 14\n",
      "this is page 15\n",
      "this is page 16\n",
      "this is page 17\n",
      "this is page 18\n",
      "this is page 19\n",
      "this is page 20\n",
      "this is page 21\n",
      "this is page 22\n",
      "this is page 23\n",
      "this is page 24\n",
      "this is page 25\n",
      "this is page 26\n",
      "this is page 27\n",
      "this is page 28\n",
      "this is page 29\n",
      "this is page 30\n",
      "this is page 31\n",
      "this is page 32\n",
      "this is page 33\n",
      "this is page 34\n",
      "this is page 35\n",
      "this is page 36\n",
      "this is page 37\n",
      "this is page 38\n",
      "this is page 39\n",
      "this is page 40\n",
      "this is page 41\n",
      "this is page 42\n",
      "this is page 43\n",
      "this is page 44\n",
      "this is page 45\n",
      "this is page 46\n",
      "this is page 47\n",
      "this is page 48\n",
      "this is page 49\n",
      "this is page 50\n",
      "this is page 51\n",
      "this is page 52\n",
      "this is page 53\n",
      "this is page 54\n",
      "this is page 55\n",
      "this is page 56\n",
      "this is page 57\n",
      "this is page 58\n",
      "this is page 59\n",
      "this is page 60\n",
      "this is page 61\n",
      "this is page 62\n",
      "this is page 63\n",
      "this is page 64\n",
      "this is page 65\n",
      "this is page 66\n",
      "this is page 67\n",
      "this is page 68\n",
      "this is page 69\n",
      "this is page 70\n",
      "this is page 71\n",
      "this is page 72\n",
      "this is page 73\n",
      "this is page 74\n",
      "this is page 75\n",
      "this is page 76\n",
      "this is page 77\n",
      "this is page 78\n",
      "this is page 79\n",
      "this is page 80\n",
      "this is page 81\n",
      "this is page 82\n",
      "this is page 83\n",
      "this is page 84\n",
      "this is page 85\n",
      "this is page 86\n",
      "this is page 87\n",
      "this is page 88\n",
      "this is page 89\n",
      "this is page 90\n",
      "this is page 91\n",
      "this is page 92\n",
      "this is page 93\n",
      "this is page 94\n",
      "this is page 95\n",
      "this is page 96\n",
      "this is page 97\n",
      "this is page 98\n",
      "this is page 99\n",
      "this is page 100\n",
      "this is page 101\n",
      "this is page 102\n",
      "this is page 103\n",
      "this is page 104\n",
      "this is page 105\n",
      "this is page 106\n",
      "this is page 107\n",
      "this is page 108\n",
      "this is page 109\n",
      "this is page 110\n",
      "this is page 111\n",
      "this is page 112\n",
      "this is page 113\n",
      "this is page 114\n",
      "this is page 115\n",
      "this is page 116\n",
      "this is page 117\n",
      "this is page 118\n",
      "this is page 119\n",
      "this is page 120\n",
      "this is page 121\n",
      "this is page 122\n",
      "this is page 123\n",
      "this is page 124\n",
      "this is page 125\n",
      "this is page 126\n",
      "this is page 127\n",
      "this is page 128\n",
      "this is page 129\n",
      "this is page 130\n",
      "this is page 131\n",
      "this is page 132\n",
      "this is page 133\n",
      "this is page 134\n",
      "this is page 135\n",
      "this is page 136\n",
      "this is page 137\n",
      "this is page 138\n",
      "this is page 139\n",
      "this is page 140\n",
      "this is page 141\n",
      "this is page 142\n",
      "this is page 143\n",
      "this is page 144\n",
      "this is page 145\n",
      "this is page 146\n",
      "this is page 147\n",
      "this is page 148\n",
      "this is page 149\n",
      "this is page 150\n",
      "this is page 151\n",
      "this is page 152\n",
      "this is page 153\n",
      "this is page 154\n",
      "this is page 155\n",
      "this is page 156\n",
      "this is page 157\n",
      "this is page 158\n",
      "this is page 159\n",
      "this is page 160\n",
      "this is page 161\n",
      "this is page 162\n",
      "this is page 163\n",
      "this is page 164\n",
      "this is page 165\n",
      "this is page 166\n",
      "this is page 167\n",
      "this is page 168\n",
      "this is page 169\n",
      "this is page 170\n",
      "this is page 171\n",
      "this is page 172\n",
      "this is page 173\n",
      "this is page 174\n",
      "this is page 175\n",
      "this is page 176\n",
      "this is page 177\n",
      "this is page 178\n",
      "this is page 179\n",
      "this is page 180\n",
      "this is page 181\n",
      "this is page 182\n",
      "this is page 183\n",
      "this is page 184\n",
      "this is page 185\n",
      "this is page 186\n",
      "this is page 187\n",
      "this is page 188\n",
      "this is page 189\n",
      "this is page 190\n",
      "this is page 191\n",
      "this is page 192\n",
      "this is page 193\n",
      "this is page 194\n",
      "this is page 195\n",
      "this is page 196\n",
      "this is page 197\n",
      "this is page 198\n",
      "this is page 199\n",
      "this is page 200\n",
      "this is page 201\n",
      "this is page 202\n",
      "this is page 203\n",
      "this is page 204\n",
      "this is page 205\n",
      "this is page 206\n",
      "this is page 207\n",
      "this is page 208\n",
      "this is page 209\n",
      "this is page 210\n",
      "this is page 211\n",
      "this is page 212\n",
      "this is page 213\n",
      "this is page 214\n",
      "this is page 215\n",
      "this is page 216\n",
      "this is page 217\n",
      "this is page 218\n",
      "this is page 219\n",
      "this is page 220\n",
      "this is page 221\n",
      "this is page 222\n",
      "this is page 223\n",
      "this is page 224\n",
      "this is page 225\n",
      "this is page 226\n",
      "this is page 227\n",
      "this is page 228\n",
      "this is page 229\n",
      "this is page 230\n",
      "this is page 231\n",
      "this is page 232\n",
      "this is page 233\n",
      "this is page 234\n",
      "this is page 235\n",
      "this is page 236\n",
      "this is page 237\n",
      "this is page 238\n",
      "this is page 239\n",
      "this is page 240\n",
      "this is page 241\n",
      "this is page 242\n",
      "this is page 243\n",
      "this is page 244\n",
      "this is page 245\n",
      "this is page 246\n",
      "this is page 247\n",
      "this is page 248\n",
      "this is page 249\n",
      "this is page 250\n",
      "this is page 251\n",
      "this is page 252\n",
      "this is page 253\n",
      "this is page 254\n",
      "this is page 255\n",
      "this is page 256\n",
      "this is page 257\n",
      "this is page 258\n"
     ]
    }
   ],
   "source": [
    "data=\"\"\n",
    "import PyPDF2\n",
    "import re\n",
    "\n",
    "# open the pdf file\n",
    "object = PyPDF2.PdfReader(\"The Monk who sold his ferrari.pdf\")\n",
    "\n",
    "# get number of pages\n",
    "NumPages = len(object.pages)\n",
    "\n",
    "\n",
    "\n",
    "# extract text and do the search\n",
    "for i in range(7, NumPages):\n",
    "    PageObj = object.pages[i]\n",
    "    print(\"this is page \" + str(i)) \n",
    "    Text = PageObj.extract_text()\n",
    "    data=data+Text"
   ]
  },
  {
   "cell_type": "code",
   "execution_count": null,
   "metadata": {},
   "outputs": [],
   "source": []
  },
  {
   "cell_type": "code",
   "execution_count": 3,
   "metadata": {},
   "outputs": [],
   "source": [
    "import tiktoken\n",
    "import redis\n",
    "import time\n",
    "from langchain.text_splitter import RecursiveCharacterTextSplitter\n",
    "# from redisearch_indexer import init, search_redis\n",
    "import openai\n",
    "from datetime import datetime\n",
    "import pandas as pd\n",
    "from tqdm import tqdm\n",
    "openai.api_key=''"
   ]
  },
  {
   "cell_type": "code",
   "execution_count": 4,
   "metadata": {},
   "outputs": [],
   "source": [
    "tokenizer = tiktoken.get_encoding('cl100k_base')\n",
    "def tiktoken_len(text):\n",
    "\n",
    "    tokens = tokenizer.encode(\n",
    "\n",
    "        text,\n",
    "\n",
    "        disallowed_special=()\n",
    "\n",
    "    )\n",
    "\n",
    "    return len(tokens)"
   ]
  },
  {
   "cell_type": "code",
   "execution_count": 5,
   "metadata": {},
   "outputs": [],
   "source": [
    "text_splitter = RecursiveCharacterTextSplitter(\n",
    "    chunk_size=500,\n",
    "    chunk_overlap=50,\n",
    "    length_function=tiktoken_len,\n",
    "    separators=[\"\\n\\n\", \"\\n\", \" \"]\n",
    ")"
   ]
  },
  {
   "cell_type": "code",
   "execution_count": 6,
   "metadata": {},
   "outputs": [
    {
     "data": {
      "text/plain": [
       "210895"
      ]
     },
     "execution_count": 6,
     "metadata": {},
     "output_type": "execute_result"
    }
   ],
   "source": [
    "data=str(data)\n",
    "tiktoken_len(data)"
   ]
  },
  {
   "cell_type": "code",
   "execution_count": 7,
   "metadata": {},
   "outputs": [
    {
     "name": "stdout",
     "output_type": "stream",
     "text": [
      "attempting to represent Islam’s diversity, I have tried to include material\n",
      "that tells the story of the major groups within Islam. This means that the\n",
      "views of the Shı ˆcıˆas well as the Sunnı ˆare included. My choice to do this\n",
      "is, in part, a corrective. Works of this kind have often been heavily\n",
      "weighted toward the Sunnı ˆperspective. The reasons for this are\n",
      "complicated, but it had much to do with the history of how the West\n",
      "came to learn about Islam and the desire of Western Orientalist writers\n",
      "to essentialize Islam and not acknowledge the nuances and differences\n",
      "that they did in Western Christianity. Recognizing complexity in\n",
      "someone else or in another religious system is an important step toward\n",
      "understanding that religion as well as one’s own.\n",
      "This single volume is not intended to be the end and the answer to\n",
      "questions about Islam, but, rather, a beginning. At the end of the\n",
      "volume, the reader will ﬁnd a bibliography listing additional English-\n",
      "language reference works, monographs, and introductory texts. I\n",
      "strongly urge readers to seek out as many of those texts as possible.\n",
      "Many of the references should be available in local libraries. There is\n",
      "also a wealth of information about Islam on the Internet. Many basic\n",
      "Islamic texts are available in English translation on line. I have listed a\n",
      "few of the gateway URLs that should serve as a start into the rapidly\n",
      "growing world of the Islamic Internet. One caution, however, is that the\n",
      "Internet is rapidly changing, with many varied opinions expressed in the\n",
      "sites. Remember that the many different opinions reﬂect the great\n",
      "diversity within the religion called Islam. There is also a time-line of\n",
      "major dates and events in Islamic history to assist the reader in placing\n",
      "the information in the Encyclopedia in historical perspective.\n",
      "The terms in the Encyclopedia are transliterated from their\n",
      "appropriate Islamic languages. The diacritic marks on the terms\n",
      "represent the consonants and vowels in the original language. This is\n",
      "meant to be an aid to the student of those languages in locating the term\n",
      "in an appropriate language dictionary or encyclopedia. Without thediacritics, it is difﬁcult, particularly for the beginner in the language, to\n",
      "distinguish what appear to be homonyms. For the reader who doesn’t\n"
     ]
    }
   ],
   "source": [
    "chunks=text_splitter.split_text(data)\n",
    "print(chunks[0])"
   ]
  },
  {
   "cell_type": "code",
   "execution_count": 8,
   "metadata": {},
   "outputs": [
    {
     "data": {
      "text/plain": [
       "481"
      ]
     },
     "execution_count": 8,
     "metadata": {},
     "output_type": "execute_result"
    }
   ],
   "source": [
    "len(chunks)"
   ]
  },
  {
   "cell_type": "code",
   "execution_count": 9,
   "metadata": {},
   "outputs": [
    {
     "name": "stderr",
     "output_type": "stream",
     "text": [
      "100%|██████████| 481/481 [01:07<00:00,  7.08it/s]\n"
     ]
    }
   ],
   "source": [
    "## Creating indexes from openai\n",
    "sk=[]\n",
    "for embed in tqdm(chunks):\n",
    "    sk.append(openai.Embedding.create(input = embed, engine='text-embedding-ada-002')['data'][0]['embedding'])\n",
    "    \n"
   ]
  },
  {
   "cell_type": "code",
   "execution_count": 10,
   "metadata": {},
   "outputs": [],
   "source": [
    "data_embeded={\"samename\":chunks,\"openai_embeddings\":sk}\n",
    "import json\n",
    "out_file = open(\"abcd.json\", \"w\")  \n",
    "json.dump(data_embeded, out_file)  \n",
    "out_file.close()\n"
   ]
  },
  {
   "cell_type": "code",
   "execution_count": 1,
   "metadata": {},
   "outputs": [
    {
     "data": {
      "text/plain": [
       "'/home/AIAdmin1/Alim_bot'"
      ]
     },
     "execution_count": 1,
     "metadata": {},
     "output_type": "execute_result"
    }
   ],
   "source": [
    "# import os\n",
    "# os.chdir(\"../../\")\n",
    "# os.getcwd()\n",
    "# # os.system(\"rm -rf /home/AIAdmin1/Alim_bot/chroma\")"
   ]
  },
  {
   "cell_type": "code",
   "execution_count": 13,
   "metadata": {},
   "outputs": [],
   "source": [
    "openai.api_key='sk-proj-9oFspACwXLo6tjgsobG7T3BlbkFJIXBM10NHcdXgdU5F9nQH'\n",
    "import os\n",
    "os.environ[\"OPENAI_API_KEY\"] = 'sk-proj-9oFspACwXLo6tjgsobG7T3BlbkFJIXBM10NHcdXgdU5F9nQH'"
   ]
  },
  {
   "cell_type": "code",
   "execution_count": 14,
   "metadata": {},
   "outputs": [],
   "source": [
    "from langchain.embeddings import OpenAIEmbeddings\n",
    "embeddings = OpenAIEmbeddings()\n",
    "embedding_function = embeddings\n"
   ]
  },
  {
   "cell_type": "code",
   "execution_count": 5,
   "metadata": {},
   "outputs": [],
   "source": [
    "text = \"This is a test document.\"\n",
    "query_result = embeddings.embed_query(text)"
   ]
  },
  {
   "cell_type": "code",
   "execution_count": 6,
   "metadata": {},
   "outputs": [],
   "source": [
    "collection_name = [\n",
    "    \"q/a\",\n",
    "    \"hadid\",\n",
    "    \"khattab\",\n",
    "    \"article\"\n",
    "]"
   ]
  },
  {
   "cell_type": "code",
   "execution_count": 15,
   "metadata": {},
   "outputs": [],
   "source": [
    "import json "
   ]
  },
  {
   "cell_type": "code",
   "execution_count": 16,
   "metadata": {},
   "outputs": [],
   "source": [
    "def create_chroma_index(json_file_path = '', collection_name = '', index_key = None ):\n",
    "    import chromadb\n",
    "\n",
    "    f=open(json_file_path)\n",
    "    data_hadith=json.load(f)\n",
    "    f.close()\n",
    "    json_data = data_hadith\n",
    "    docs = []\n",
    "    embedding_data = []\n",
    "\n",
    "\n",
    "    if index_key == None :\n",
    "        index_key = collection_name\n",
    "\n",
    "\n",
    "    for index in range(len(data_hadith[index_key])):\n",
    "        docs.append(data_hadith[index_key][index])\n",
    "        embedding_data.append(data_hadith[\"openai_embeddings\"][index])\n",
    "    persistent_client = chromadb.PersistentClient()\n",
    "    collection = persistent_client.create_collection(collection_name,\n",
    "                                                    metadata={\"hnsw:space\": \"l2\"})\n",
    "    collection.add( ids = [str(i) for i in range(len(docs))], documents=docs, embeddings=embedding_data)\n",
    "    print(f\"created {collection_name}\")\n",
    "    langchain_chroma = Chroma(\n",
    "        client=persistent_client,\n",
    "        collection_name=collection_name,\n",
    "        embedding_function=embedding_function,\n",
    "    )\n",
    "    return langchain_chroma"
   ]
  },
  {
   "cell_type": "code",
   "execution_count": 17,
   "metadata": {},
   "outputs": [
    {
     "name": "stdout",
     "output_type": "stream",
     "text": [
      "created Quran_English\n"
     ]
    },
    {
     "data": {
      "text/plain": [
       "<langchain_community.vectorstores.chroma.Chroma at 0x7f2a744c8100>"
      ]
     },
     "execution_count": 17,
     "metadata": {},
     "output_type": "execute_result"
    }
   ],
   "source": [
    "create_chroma_index(json_file_path='name.json',collection_name = 'name' )"
   ]
  },
  {
   "cell_type": "code",
   "execution_count": 9,
   "metadata": {},
   "outputs": [],
   "source": [
    "# create_chroma_index(json_file_path='/home/AIAdmin1/Alim_bot/data/Islamicity_QA/Islamicity_QA_1.json',collection_name = 'Islamicity_QA_1', index_key= \"Islamicity_QA\"  )\n",
    "\n",
    "\n",
    "# create_chroma_index(json_file_path='/home/AIAdmin1/Alim_bot/data/Islamicity_QA/Islamicity_QA_2.json',collection_name = 'Islamicity_QA_2', index_key= \"Islamicity_QA\"  )\n",
    "# create_chroma_index(json_file_path='/home/AIAdmin1/Alim_bot/data/Islamicity_QA/Islamicity_QA_3.json',collection_name = 'Islamicity_QA_3', index_key= \"Islamicity_QA\"  )\n",
    "# create_chroma_index(json_file_path='/home/AIAdmin1/Alim_bot/data/Islamicity_QA/Islamicity_QA_4.json',collection_name = 'Islamicity_QA_4', index_key= \"Islamicity_QA\"  )\n",
    "# create_chroma_index(json_file_path='/home/AIAdmin1/Alim_bot/data/Islamicity_hadiths_phase3.json',collection_name = 'Islamicity_hadiths' )\n",
    "# create_chroma_index(json_file_path='/home/AIAdmin1/Alim_bot/data/Islamicity_khattab_phase3.json',collection_name = 'Islamicity_khattab' )\n",
    "# create_chroma_index(json_file_path='/home/AIAdmin1/Alim_bot/data/Islamicity_Articles.json',collection_name = 'Islamicity_Articles' )\n",
    "\n"
   ]
  },
  {
   "cell_type": "code",
   "execution_count": 2,
   "metadata": {},
   "outputs": [],
   "source": [
    "import os\n",
    "os.environ[\"OPENAI_API_KEY\"] = 'sk-proj-9oFspACwXLo6tjgsobG7T3BlbkFJIXBM10NHcdXgdU5F9nQH'\n",
    "\n",
    "def similarity_search(query= \"\", collection_name = 'Islamicity_khattab', vector = None ):\n",
    "    from langchain.embeddings import OpenAIEmbeddings\n",
    "    embeddings = OpenAIEmbeddings()\n",
    "    embedding_function = embeddings\n",
    "    from langchain.vectorstores import Chroma\n",
    "    import chromadb\n",
    "    index_key = None\n",
    "    persistent_client = chromadb.PersistentClient()\n",
    "    # collection = persistent_client.get_collection(collection_name)\n",
    "    langchain_chroma = Chroma(\n",
    "    client=persistent_client,\n",
    "    collection_name=collection_name,\n",
    "    embedding_function=embedding_function,\n",
    "    )\n",
    "    if vector:\n",
    "        return collection_name, langchain_chroma.similarity_search_by_vector(vector, k = 1)\n",
    "    return collection_name, langchain_chroma.similarity_search_with_score(query, k = 1)\n",
    "\n",
    "\n"
   ]
  },
  {
   "cell_type": "code",
   "execution_count": 3,
   "metadata": {},
   "outputs": [],
   "source": [
    "all_index = [\n",
    "    \"Islamicity_QA_1\",\n",
    "    \"Islamicity_QA_2\",\n",
    "    \"Islamicity_QA_3\",\n",
    "    \"Islamicity_QA_4\"\n",
    "]\n",
    "checker={}\n",
    "for i in all_index:\n",
    "    val=similarity_search(\"Heyy How are you\", i)\n",
    "    checker[val[1][0][0].page_content]=val[1][0][1]"
   ]
  },
  {
   "cell_type": "code",
   "execution_count": 5,
   "metadata": {},
   "outputs": [
    {
     "data": {
      "text/plain": [
       "'show it off. I\\\\n\", \\'Answer:\\\\n\\', \\'\\\\n\\', \\'All perfect praise be to Allaah, The Lord of the Worlds. I testify that there is none worthy of worship except Allaah, and that Muhammad (saw) is His slave and Messenger. First of all, we ask Allaah to facilitate your affairs, greatly reward you, and increase your piety, righteousness and enable you to perform good deeds.We advise you to be patient about the disease which you have, as there is much good and reward in being patient. The Prophet (saw) said: \"How wonderful is the matter of a believer, there is good in all his affairs, and this is only for the believer. If something good happens to him and he is grateful, then this is good for him, and if a calamity befalls him and he is patient, then this is also good for him.\" [Muslim]. For more benefit, please refer to Fatwa 83577.We also advise you to sincerely turn to Allaah, have trust in Him and earnestly supplicate Him for achieving a benefit or repelling harm. Indeed, you have a good example in Prophet Ayoob (Job) as he supplicated Allaah and Allaah cured him from the great affliction which He tried him with. As regards undergoing the operations which you mentioned, then the operations that are purely for beautification are not permissible. However, the operations that are for the purpose of removing a deficiency are permissible, on the condition that the religious requirements are observed. For more benefit, please refer to Fataawa 83876, 90843, 83752 and 87848. Allaah Knows best.\\\\n\\', \\'\\\\n\\', \\'\\\\n\\', \\'Question nbr: 124657\\\\n\\', \\'Toipc: Video games with animated cartoons\\\\n\\', \\'Question: Bismillahi.As salamu alaikuunion Pls can someone play video games that involve animate objects.Pls consider that at a stage in thedevelopment of these games,the developers have to actually draw these pictures.Thank you.\\\\n\\', \"Answer: All perfect praise be to Allaah, The Lord of the Worlds. I testify that there is none worthy of worship except Allaah, and that Muhammad (saw) is His slave and Messenger. We have already issued Fataawa 86146 and 83778 clarifying that in principle cartoons are forbidden as they are included in forbidden pictures because it'"
      ]
     },
     "execution_count": 5,
     "metadata": {},
     "output_type": "execute_result"
    }
   ],
   "source": [
    "max(zip(checker.values(), checker.keys()))[1]\n"
   ]
  },
  {
   "cell_type": "code",
   "execution_count": 6,
   "metadata": {},
   "outputs": [
    {
     "data": {
      "text/plain": [
       "{'shahzad,mera masla yeeh hai kay kuch 6months phele mere yaha aulad huwee kuch arsa guzarnay kay bad docots nay kaha iss kee ankh mai motia hai hum nay motia kaa ilaj karwaya ab kuch bhetar hai aur docotrs nay ummed dilai hai kay sahee ho jai gaa ahista ahista ab koi yeeh nahee bata sakta kay yeeh kis tarha huwa asal mai taqreeban 28years phele mere walid kay yaha aulad huwee matlab mere behan joo kay motie waqaira kaa kay marz mai thee uss nay mai aur bhee kafee kisam kee bimaria thee mai ap say yeeh chata hoon kay mujee koi iss kisam kaa wird ya duwa batai jis say mere yeeh aulad sahee normal hoo jai aur agee honee walee aulad mai bhee nomal hee hoon mai aap kaa shukar guzar rahoon gaa duwao kaa talabgar shahzad\\\\n\\', \\'Answer: As-Salamu `alaykum wa Rahmatullahi wa Barakatuh. In the Name of Allah, Most Gracious, Most Merciful. All praise and thanks are due to Allah, and peace and blessings be upon His Messenger. We commend your keenness on getting your self well-acquainted with Islam and its teachings, and we implore Allah Almighty to help us serve His cause and render our work for His Sake. Allah (swt) says: \"O you who believe! Seek help with Sabr and Salah.\"(Al-Baqarah) Hence for any necessity we should pray two raka`ah and ask Allah Almighty to help in that particular task. Ahmad has on sound authority reported from Abu Darda that the Prophet Sallallahu Alehi wasallam said: \"He who makes wudu, and does it properly, then prays two rakat, Allah will grant him whatever he may pray for, sooner or later. Among other Duaas following Duaa Allah swt has taught us. Rabbana': 0.4482644498348236,\n",
       " 'Lord! Give unto us in the world that which is good and in the Hereafter that which is good, and guard us from the doom of Fire.\")(Quran 2:201) 2. Allahumma-akfinee biHalaalika an Haraamika wa aGhninee bi fadlika Amman siwaak. If a person sincerely and resolutely turns to Allaah, seeking His help, following the manners of supplications and being free of anything that prevents supplications from being answered, then Allaah has said: {And when My servants ask you [Muhammad] concerning me, then (answer them), I am indeed near (to them by My knowledge). I respond to the invocations of the supplicant when he calls on Me}, [Soorah al-Baqarah, Aayah 186). Another verse states: {And your Lord said, Invoke Me, I will respond to your (invocation)}, [Soorah Ghaafir, Aayah 60]. Allaah has stated that the response to the invocation comes after the person responds to Allaah and believes in Him. I do not see anything stronger than turning to Allaah, supplicating to Him humbling oneself to Him and waiting for the solution. It has been confirmed that the Prophet (sal-Allaahu `alayhe wa sallam) said: ((Know that victory comes with patience, relief with distress and ease with hardship)). May Allah guide us all to the straight path! Wassalam and Allah Almighty knows best.\\\\n\\', \\'\\\\n\\', \\'\\\\n\\', \\'Question nbr: 31080\\\\n\\', \\'Toipc: Sins: Wife Committed Adultery\\\\n\\', \\'Question: Assalam-alaikum Sins(Zinah),I m in a situation where i should not be,i m very confused about my life,i married 4 yrs back, i have a dauther,before 1yr my wife went to job in an education institute, their she build a relationship with him and in unfauthful condotion she had Zinah with him,before 2 months she told everything to me and opologised for what had happened,now she wants to repent to allah,i m very much confused please give the solution,whether it is better to forgive her and live a better life,the major what she has done is forgivable from allah...please give me the answers': 0.4683750569820404,\n",
       " '18. I have grown a beard, pray on time and follow sunnah. Married recently Alhamduliah. The last 5 years of my life I was studing in the U.S. I was trying to be an \"American guy\" and engaged in a lot of sins drinking, smoking, sex etc. I have repented the last six month of my stay in US and faced a lot of hardship and suffered from depression agreophobia and bad thoughts. These sypmotoms continued and have worsen when I came back home where I faced an extreme reverse cultural shock. However, I continued to strive to be a real muslim and the syptoms subsided gradually alhamdullilah. Also, I adopt to live in the new environment \"home country\" where corruption and fitnah are everywhere despite being a muslim land. Furthermore, now I have a job and feel better Alhamdulilah. Now my employer is sending me back to U.S for 7 months and have got the ticket for me and my new wife. However, Im not feeling good about this specially after the fitnah that is happening in the world right now. Please I need an advice. Shukran Jazeelan brothers\\\\n\\', \\'Answer: All perfect praise be to Allaah, The Lord of the Worlds. I testify that there is none worthy of worship except Allaah, and that Muhammad, sallallaahu \\\\\\'alayhi wa sallam, is His Slave and Messenger.You did well by turning back to Allaah and repenting of your sins. This is what the believer should do. Whenever he commits a sin, he hastens to repent and never despairs of Allaah\\\\\\'s mercy and forgiveness. Allaah The Exalted says (what means): {Say, \"O My servants who have transgressed against themselves [by sinning], do not despair of the mercy of Allaah. Indeed, Allaah forgives all sins. Indeed, it is He who is the Forgiving, the Merciful.\"} [Quran 39:53]Abu Hurayrah reported that the Prophet, sallallaahu \\\\\\'alayhi wa sallam, said: \"Allaah, the Exalted, said: \\\\\\'A slave committed a sin and he said: O Allaah, forgive my sin,\\\\\\' and Allaah said: \\\\\\'My slave committed a sin and he knows that he has a Lord Who forgives': 0.46987953782081604,\n",
       " 'show it off. I\\\\n\", \\'Answer:\\\\n\\', \\'\\\\n\\', \\'All perfect praise be to Allaah, The Lord of the Worlds. I testify that there is none worthy of worship except Allaah, and that Muhammad (saw) is His slave and Messenger. First of all, we ask Allaah to facilitate your affairs, greatly reward you, and increase your piety, righteousness and enable you to perform good deeds.We advise you to be patient about the disease which you have, as there is much good and reward in being patient. The Prophet (saw) said: \"How wonderful is the matter of a believer, there is good in all his affairs, and this is only for the believer. If something good happens to him and he is grateful, then this is good for him, and if a calamity befalls him and he is patient, then this is also good for him.\" [Muslim]. For more benefit, please refer to Fatwa 83577.We also advise you to sincerely turn to Allaah, have trust in Him and earnestly supplicate Him for achieving a benefit or repelling harm. Indeed, you have a good example in Prophet Ayoob (Job) as he supplicated Allaah and Allaah cured him from the great affliction which He tried him with. As regards undergoing the operations which you mentioned, then the operations that are purely for beautification are not permissible. However, the operations that are for the purpose of removing a deficiency are permissible, on the condition that the religious requirements are observed. For more benefit, please refer to Fataawa 83876, 90843, 83752 and 87848. Allaah Knows best.\\\\n\\', \\'\\\\n\\', \\'\\\\n\\', \\'Question nbr: 124657\\\\n\\', \\'Toipc: Video games with animated cartoons\\\\n\\', \\'Question: Bismillahi.As salamu alaikuunion Pls can someone play video games that involve animate objects.Pls consider that at a stage in thedevelopment of these games,the developers have to actually draw these pictures.Thank you.\\\\n\\', \"Answer: All perfect praise be to Allaah, The Lord of the Worlds. I testify that there is none worthy of worship except Allaah, and that Muhammad (saw) is His slave and Messenger. We have already issued Fataawa 86146 and 83778 clarifying that in principle cartoons are forbidden as they are included in forbidden pictures because it': 0.481764554977417}"
      ]
     },
     "execution_count": 6,
     "metadata": {},
     "output_type": "execute_result"
    }
   ],
   "source": [
    "checker\n"
   ]
  },
  {
   "cell_type": "code",
   "execution_count": null,
   "metadata": {},
   "outputs": [],
   "source": []
  }
 ],
 "metadata": {
  "kernelspec": {
   "display_name": ".venv",
   "language": "python",
   "name": "python3"
  },
  "language_info": {
   "codemirror_mode": {
    "name": "ipython",
    "version": 3
   },
   "file_extension": ".py",
   "mimetype": "text/x-python",
   "name": "python",
   "nbconvert_exporter": "python",
   "pygments_lexer": "ipython3",
   "version": "3.11.9"
  }
 },
 "nbformat": 4,
 "nbformat_minor": 2
}
